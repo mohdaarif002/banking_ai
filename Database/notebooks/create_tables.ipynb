{
 "cells": [
  {
   "cell_type": "code",
   "execution_count": 1,
   "metadata": {},
   "outputs": [
    {
     "name": "stdout",
     "output_type": "stream",
     "text": [
      "Database schema created successfully from file!\n"
     ]
    }
   ],
   "source": [
    "import sqlite3\n",
    "\n",
    "# Connect to SQLite database\n",
    "conn = sqlite3.connect(\"../BankDB.db\")\n",
    "cursor = conn.cursor()\n",
    "\n",
    "# Read and execute the SQL file\n",
    "with open(\"..\\scripts\\schema.sql\", \"r\") as f:\n",
    "    sql_script = f.read()\n",
    "\n",
    "cursor.executescript(sql_script)\n",
    "\n",
    "# Commit and close connection\n",
    "conn.commit()\n",
    "conn.close()\n",
    "\n",
    "print(\"Database schema created successfully from file!\")\n"
   ]
  }
 ],
 "metadata": {
  "kernelspec": {
   "display_name": "docgen11",
   "language": "python",
   "name": "python3"
  },
  "language_info": {
   "codemirror_mode": {
    "name": "ipython",
    "version": 3
   },
   "file_extension": ".py",
   "mimetype": "text/x-python",
   "name": "python",
   "nbconvert_exporter": "python",
   "pygments_lexer": "ipython3",
   "version": "3.11.9"
  }
 },
 "nbformat": 4,
 "nbformat_minor": 2
}
